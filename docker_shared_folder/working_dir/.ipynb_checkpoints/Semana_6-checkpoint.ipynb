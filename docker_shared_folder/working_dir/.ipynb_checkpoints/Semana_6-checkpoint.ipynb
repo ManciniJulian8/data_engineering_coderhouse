{
 "cells": [
  {
   "cell_type": "markdown",
   "id": "8523bb83-4e1a-413d-870e-4da039e94da2",
   "metadata": {},
   "source": [
    "# Semana 6"
   ]
  },
  {
   "cell_type": "code",
   "execution_count": null,
   "id": "ebb5d05a-b02b-48da-862a-6339180e2d50",
   "metadata": {},
   "outputs": [],
   "source": []
  }
 ],
 "metadata": {
  "kernelspec": {
   "display_name": "Python 3 (ipykernel)",
   "language": "python",
   "name": "python3"
  },
  "language_info": {
   "codemirror_mode": {
    "name": "ipython",
    "version": 3
   },
   "file_extension": ".py",
   "mimetype": "text/x-python",
   "name": "python",
   "nbconvert_exporter": "python",
   "pygments_lexer": "ipython3",
   "version": "3.10.10"
  }
 },
 "nbformat": 4,
 "nbformat_minor": 5
}
