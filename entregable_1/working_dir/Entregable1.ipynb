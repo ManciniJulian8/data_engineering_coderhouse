{
 "cells": [
  {
   "cell_type": "markdown",
   "id": "2b9d8ad5-0ba7-4f10-bbc4-963a950c85fa",
   "metadata": {
    "tags": []
   },
   "source": [
    "# Entregable 1\n",
    "\n",
    "## Consigna:\n",
    "\n",
    "Script que extraiga datos de una API pública y crear la tabla en Redshift para posterior carga de sus datos.\n",
    "\n",
    "### Objetivos generales\n",
    "\n",
    "✓ Tener un código inicial que será usado\n",
    "en el proyecto final como un script ETL\n",
    "inicial.\n",
    "\n",
    "### Objetivos específicos\n",
    "\n",
    "✓ El script debería extraer datos en JSON\n",
    "y poder leer el formato en un\n",
    "diccionario de Python.\n",
    "\n",
    "✓ La entrega involucra la creación de una\n",
    "versión inicial de la tabla donde los\n",
    "datos serán cargados posteriormente.\n",
    "\n",
    "Esto lo vamos a llevar a cabo usando `requests`, `Spark` y un driver de conexión de `Postgres`"
   ]
  },
  {
   "cell_type": "markdown",
   "id": "c9ee5997-74e0-4ae9-a586-d36e2b3776be",
   "metadata": {
    "tags": []
   },
   "source": [
    "## 1) Bajar datos de una API en formato JSON\n",
    "\n",
    "Para este ejemplo vamos a usar la API de [Datos Argentina](https://www.datos.gob.ar/)\n",
    "\n",
    "Y nos vamos a traer los datos de: Exportaciones de productos primarios. En millones de dólares FOB\n",
    "\n",
    "Para probar la API ir a: [API de Series de Tiempo AR: Generador de URLs](https://datosgobar.github.io/series-tiempo-ar-call-generator/)"
   ]
  },
  {
   "cell_type": "code",
   "execution_count": 1,
   "id": "f1192897-80d3-426e-ad0d-6be6c25d1933",
   "metadata": {
    "tags": []
   },
   "outputs": [],
   "source": [
    "import numpy as np\n",
    "import pandas as pd\n",
    "import json \n",
    "import requests\n",
    "import math\n",
    "from datetime import timedelta\n",
    "from astral import LocationInfo \n",
    "from astral.location import Location\n",
    "from sklearn.preprocessing import OneHotEncoder\n",
    "from sklearn.preprocessing import StandardScaler\n",
    "from joblib import dump, load\n",
    "from pyspark.sql.functions import col, substring"
   ]
  },
  {
   "cell_type": "code",
   "execution_count": 2,
   "id": "2b8041f0-c750-42c3-8943-515cd0131743",
   "metadata": {
    "tags": []
   },
   "outputs": [],
   "source": [
    "import requests\n",
    "import urllib.parse\n",
    "\n",
    "def get_api_call(ids, **kwargs):\n",
    "    API_BASE_URL = \"https://apis.datos.gob.ar/series/api/\"\n",
    "    kwargs[\"ids\"] = \",\".join(ids)\n",
    "    return \"{}{}?{}\".format(API_BASE_URL, \"series\", urllib.parse.urlencode(kwargs))"
   ]
  },
  {
   "cell_type": "code",
   "execution_count": 3,
   "id": "697c682c-f3f5-4662-8a63-cd33cd34444b",
   "metadata": {
    "tags": []
   },
   "outputs": [
    {
     "name": "stdout",
     "output_type": "stream",
     "text": [
      "https://apis.datos.gob.ar/series/api/series?start_date=1992-01-01&ids=74.3_IEPP_0_M_35\n"
     ]
    }
   ],
   "source": [
    "# Ejemplo: https://apis.datos.gob.ar/series/api/series?ids=75.3_IEC_0_M_26&start_date=2020-01-01\n",
    "api_call = get_api_call([\"74.3_IEPP_0_M_35\"], start_date=\"1992-01-01\")\n",
    "print(api_call)"
   ]
  },
  {
   "cell_type": "code",
   "execution_count": 4,
   "id": "3b04e992-36f2-4e9b-9a9a-bc417426f700",
   "metadata": {
    "tags": []
   },
   "outputs": [
    {
     "name": "stdout",
     "output_type": "stream",
     "text": [
      "{'data': [['1992-01-01', 133.367679], ['1992-02-01', 188.034116], ['1992-03-01', 320.984466], ['1992-04-01', 375.242075], ['1992-05-01', 474.440656], ['1992-06-01', 442.905698], ['1992-07-01', 455.983718], ['1992-08-01', 346.11888], ['1992-09-01', 251.83012], ['1992-10-01', 180.399972], ['1992-11-01', 152.657852], ['1992-12-01', 170.560837], ['1993-01-01', 226.344594], ['1993-02-01', 218.95773], ['1993-03-01', 376.002446], ['1993-04-01', 375.657342], ['1993-05-01', 470.956346], ['1993-06-01', 402.156012], ['1993-07-01', 309.188763], ['1993-08-01', 245.806947], ['1993-09-01', 229.396576], ['1993-10-01', 144.645589], ['1993-11-01', 113.595346], ['1993-12-01', 160.927861], ['1994-01-01', 174.410652], ['1994-02-01', 198.24988], ['1994-03-01', 280.889311], ['1994-04-01', 387.628872], ['1994-05-01', 638.094045], ['1994-06-01', 502.878474], ['1994-07-01', 379.775061], ['1994-08-01', 310.702685], ['1994-09-01', 244.321473], ['1994-10-01', 194.560862], ['1994-11-01', 185.216891], ['1994-12-01', 239.456746], ['1995-01-01', 290.668862], ['1995-02-01', 316.03961], ['1995-03-01', 481.028651], ['1995-04-01', 591.532431], ['1995-05-01', 738.796662], ['1995-06-01', 645.877824], ['1995-07-01', 505.684285], ['1995-08-01', 376.014645], ['1995-09-01', 257.359141], ['1995-10-01', 191.535487], ['1995-11-01', 159.437539], ['1995-12-01', 262.28652], ['1996-01-01', 276.54462], ['1996-02-01', 288.602661], ['1996-03-01', 491.967283], ['1996-04-01', 633.572959], ['1996-05-01', 831.448547], ['1996-06-01', 671.738813], ['1996-07-01', 658.437198], ['1996-08-01', 592.519716], ['1996-09-01', 361.578276], ['1996-10-01', 287.027259], ['1996-11-01', 242.551044], ['1996-12-01', 481.671774], ['1997-01-01', 555.363218], ['1997-02-01', 521.613762], ['1997-03-01', 535.868237], ['1997-04-01', 766.322661], ['1997-05-01', 702.089577], ['1997-06-01', 535.168651], ['1997-07-01', 458.00709], ['1997-08-01', 376.034836], ['1997-09-01', 329.969251], ['1997-10-01', 308.979642], ['1997-11-01', 260.396801], ['1997-12-01', 355.072644], ['1998-01-01', 446.649568], ['1998-02-01', 435.606946], ['1998-03-01', 723.327768], ['1998-04-01', 810.918573], ['1998-05-01', 804.059934], ['1998-06-01', 781.923652], ['1998-07-01', 594.179914], ['1998-08-01', 575.736833], ['1998-09-01', 457.529147], ['1998-10-01', 339.636298], ['1998-11-01', 291.82978], ['1998-12-01', 342.418401], ['1999-01-01', 311.899568], ['1999-02-01', 385.542276], ['1999-03-01', 588.70582], ['1999-04-01', 615.828973], ['1999-05-01', 665.123319], ['1999-06-01', 588.535462], ['1999-07-01', 447.740931], ['1999-08-01', 390.381966], ['1999-09-01', 303.723443], ['1999-10-01', 260.720649], ['1999-11-01', 260.220986], ['1999-12-01', 326.803687], ['2000-01-01', 379.492374], ['2000-02-01', 371.756283], ['2000-03-01', 541.383917], ['2000-04-01', 654.577308]], 'count': 376, 'meta': [{'frequency': 'month', 'start_date': '1992-01-01', 'end_date': '2000-04-01'}, {'catalog': {'title': 'Datos Programación Macroeconómica'}, 'dataset': {'title': 'Intercambio Comercial Argentino', 'description': 'Intercambio Comercial Argentino en millones de dólares', 'issued': '2017-09-28', 'source': 'Instituto Nacional de Estadística y Censos (INDEC)'}, 'distribution': {'title': 'Intercambio Comercial Argentino. Valores mensuales', 'downloadURL': 'https://infra.datos.gob.ar/catalog/sspm/dataset/74/distribution/74.3/download/intercambio-comercial-argentino-mensual.csv'}, 'field': {'description': 'Exportaciones de productos primarios. En millones de dólares.', 'id': '74.3_IEPP_0_M_35', 'units': 'Millones de dólares', 'representation_mode': 'value', 'representation_mode_units': 'Millones de dólares'}}], 'params': {'start_date': '1992-01-01', 'ids': '74.3_IEPP_0_M_35', 'identifiers': [{'id': '74.3_IEPP_0_M_35', 'distribution': '74.3', 'dataset': '74'}]}}\n"
     ]
    }
   ],
   "source": [
    "result = requests.get(api_call).json()\n",
    "print(result)"
   ]
  },
  {
   "cell_type": "markdown",
   "id": "7f9d78ac-50eb-4385-80bb-4478be1240d3",
   "metadata": {},
   "source": [
    "## 2) Creación de la tabla y conexiones"
   ]
  },
  {
   "cell_type": "code",
   "execution_count": 5,
   "id": "c0c4ae6a-6d33-48c5-bc76-78280bc5bb80",
   "metadata": {
    "tags": []
   },
   "outputs": [
    {
     "name": "stdout",
     "output_type": "stream",
     "text": [
      "Requirement already satisfied: psycopg2-binary in /opt/conda/lib/python3.10/site-packages (2.9.6)\n"
     ]
    }
   ],
   "source": [
    "!pip install psycopg2-binary"
   ]
  },
  {
   "cell_type": "code",
   "execution_count": 6,
   "id": "784bd8a8-1f06-4eed-b011-8c6b04b6f5df",
   "metadata": {
    "tags": []
   },
   "outputs": [],
   "source": [
    "# Crear sesion de Spark\n",
    "import os\n",
    "import psycopg2\n",
    "\n",
    "from pyspark.sql import SparkSession\n",
    "from pyspark.sql.functions import when, lit, col\n",
    "\n",
    "# Postgres and Redshift JDBCs\n",
    "driver_path = \"/home/coder/working_dir/driver_jdbc/postgresql-42.2.27.jre7.jar\"\n",
    "\n",
    "os.environ['PYSPARK_SUBMIT_ARGS'] = f'--driver-class-path {driver_path} --jars {driver_path} pyspark-shell'\n",
    "os.environ['SPARK_CLASSPATH'] = driver_path\n",
    "\n",
    "# Create SparkSession \n",
    "spark = SparkSession.builder \\\n",
    "        .master(\"local\") \\\n",
    "        .appName(\"Conexion entre Pyspark y Redshift\") \\\n",
    "        .config(\"spark.jars\", driver_path) \\\n",
    "        .config(\"spark.executor.extraClassPath\", driver_path) \\\n",
    "        .getOrCreate()"
   ]
  },
  {
   "cell_type": "code",
   "execution_count": 7,
   "id": "f82b7ea8-81ee-4a17-83e5-0b7a85542b6e",
   "metadata": {
    "tags": []
   },
   "outputs": [],
   "source": [
    "env = os.environ"
   ]
  },
  {
   "cell_type": "code",
   "execution_count": 8,
   "id": "d6c9313b-f55d-41b6-b0b3-2028781bb352",
   "metadata": {
    "tags": []
   },
   "outputs": [],
   "source": [
    "# Connect to Redshift using psycopg2\n",
    "conn = psycopg2.connect(\n",
    "    host=env['AWS_REDSHIFT_HOST'],\n",
    "    port=env['AWS_REDSHIFT_PORT'],\n",
    "    dbname=env['AWS_REDSHIFT_DBNAME'],\n",
    "    user=env['AWS_REDSHIFT_USER'],\n",
    "    password=env['AWS_REDSHIFT_PASSWORD']\n",
    ")"
   ]
  },
  {
   "cell_type": "code",
   "execution_count": 9,
   "id": "09f4ae99-28b8-4deb-8efe-536a4fc924e9",
   "metadata": {
    "tags": []
   },
   "outputs": [
    {
     "name": "stdout",
     "output_type": "stream",
     "text": [
      "Table created!\n"
     ]
    }
   ],
   "source": [
    "cursor = conn.cursor()\n",
    "cursor.execute(f\"\"\"\n",
    "create table if not exists {env['AWS_REDSHIFT_SCHEMA']}.exportaciones_productos_primarios (\n",
    "    date_from VARCHAR(10) distkey,\n",
    "    millones_dolares decimal(10,2),\n",
    "    frequency varchar(12),\n",
    "    month varchar(12)\n",
    ") sortkey(date_from);\n",
    "\"\"\")\n",
    "conn.commit()\n",
    "cursor.close()\n",
    "print(\"Table created!\")"
   ]
  },
  {
   "cell_type": "code",
   "execution_count": 10,
   "id": "f4fe5a1d-769a-4e42-975c-2391f27326cb",
   "metadata": {
    "tags": []
   },
   "outputs": [
    {
     "name": "stdout",
     "output_type": "stream",
     "text": [
      "exportaciones_productos_primarios\n"
     ]
    }
   ],
   "source": [
    "cursor = conn.cursor()\n",
    "cursor.execute(f\"\"\"\n",
    "SELECT\n",
    "  distinct tablename\n",
    "FROM\n",
    "  PG_TABLE_DEF\n",
    "WHERE\n",
    "  schemaname = '{env['AWS_REDSHIFT_SCHEMA']}';\n",
    "\"\"\")\n",
    "# resultado = cursor.fetchall()\n",
    "print(\", \".join(map(lambda x: x[0], cursor.fetchall())))\n",
    "cursor.close()"
   ]
  },
  {
   "cell_type": "markdown",
   "id": "fa54476f-649a-4818-85d5-e95b2dcae67e",
   "metadata": {
    "tags": []
   },
   "source": [
    "## 3) Transformación de la información extraída de la API"
   ]
  },
  {
   "cell_type": "code",
   "execution_count": 11,
   "id": "5426b03c-0298-4331-a242-9d4c2b55bf5a",
   "metadata": {
    "tags": []
   },
   "outputs": [],
   "source": [
    "# Create the DataFrame with the specified column names\n",
    "df = spark.createDataFrame(result['data'], [\"date_from\", \"millones_dolares\"])"
   ]
  },
  {
   "cell_type": "code",
   "execution_count": 12,
   "id": "9e65938a-dd85-476a-b8d5-44e33227a8e2",
   "metadata": {
    "tags": []
   },
   "outputs": [
    {
     "name": "stdout",
     "output_type": "stream",
     "text": [
      "root\n",
      " |-- date_from: string (nullable = true)\n",
      " |-- millones_dolares: double (nullable = true)\n",
      "\n",
      "+----------+----------------+\n",
      "| date_from|millones_dolares|\n",
      "+----------+----------------+\n",
      "|1992-01-01|      133.367679|\n",
      "|1992-02-01|      188.034116|\n",
      "|1992-03-01|      320.984466|\n",
      "|1992-04-01|      375.242075|\n",
      "|1992-05-01|      474.440656|\n",
      "|1992-06-01|      442.905698|\n",
      "|1992-07-01|      455.983718|\n",
      "|1992-08-01|       346.11888|\n",
      "|1992-09-01|       251.83012|\n",
      "|1992-10-01|      180.399972|\n",
      "|1992-11-01|      152.657852|\n",
      "|1992-12-01|      170.560837|\n",
      "|1993-01-01|      226.344594|\n",
      "|1993-02-01|       218.95773|\n",
      "|1993-03-01|      376.002446|\n",
      "|1993-04-01|      375.657342|\n",
      "|1993-05-01|      470.956346|\n",
      "|1993-06-01|      402.156012|\n",
      "|1993-07-01|      309.188763|\n",
      "|1993-08-01|      245.806947|\n",
      "+----------+----------------+\n",
      "only showing top 20 rows\n",
      "\n"
     ]
    }
   ],
   "source": [
    "df.printSchema()\n",
    "df.show()"
   ]
  },
  {
   "cell_type": "code",
   "execution_count": 16,
   "id": "9d2f1b49-7f24-4795-84aa-73a3e857b758",
   "metadata": {
    "tags": []
   },
   "outputs": [],
   "source": [
    "#se incorporá la frecuencia de la data"
   ]
  },
  {
   "cell_type": "code",
   "execution_count": 13,
   "id": "6987abc0-1927-466c-aaea-79493449dcb9",
   "metadata": {
    "tags": []
   },
   "outputs": [
    {
     "name": "stdout",
     "output_type": "stream",
     "text": [
      "root\n",
      " |-- date_from: string (nullable = true)\n",
      " |-- millones_dolares: double (nullable = true)\n",
      " |-- frequency: string (nullable = false)\n",
      "\n",
      "+----------+----------------+---------+\n",
      "| date_from|millones_dolares|frequency|\n",
      "+----------+----------------+---------+\n",
      "|1992-01-01|      133.367679|  Mensual|\n",
      "|1992-02-01|      188.034116|  Mensual|\n",
      "|1992-03-01|      320.984466|  Mensual|\n",
      "|1992-04-01|      375.242075|  Mensual|\n",
      "|1992-05-01|      474.440656|  Mensual|\n",
      "|1992-06-01|      442.905698|  Mensual|\n",
      "|1992-07-01|      455.983718|  Mensual|\n",
      "|1992-08-01|       346.11888|  Mensual|\n",
      "|1992-09-01|       251.83012|  Mensual|\n",
      "|1992-10-01|      180.399972|  Mensual|\n",
      "|1992-11-01|      152.657852|  Mensual|\n",
      "|1992-12-01|      170.560837|  Mensual|\n",
      "|1993-01-01|      226.344594|  Mensual|\n",
      "|1993-02-01|       218.95773|  Mensual|\n",
      "|1993-03-01|      376.002446|  Mensual|\n",
      "|1993-04-01|      375.657342|  Mensual|\n",
      "|1993-05-01|      470.956346|  Mensual|\n",
      "|1993-06-01|      402.156012|  Mensual|\n",
      "|1993-07-01|      309.188763|  Mensual|\n",
      "|1993-08-01|      245.806947|  Mensual|\n",
      "+----------+----------------+---------+\n",
      "only showing top 20 rows\n",
      "\n"
     ]
    }
   ],
   "source": [
    "df_to_write = df.withColumn('frequency', lit('Mensual'))\n",
    "df_to_write.printSchema()\n",
    "df_to_write.show()"
   ]
  },
  {
   "cell_type": "code",
   "execution_count": 15,
   "id": "9c161b3a-e11c-4143-a4ad-73bd7c41a161",
   "metadata": {
    "tags": []
   },
   "outputs": [],
   "source": [
    "#otra transformación que se hará, es extraer el mes de la fecha"
   ]
  },
  {
   "cell_type": "code",
   "execution_count": 14,
   "id": "0999d28e-c5f7-40ad-91ff-c6802ebb0ecc",
   "metadata": {
    "tags": []
   },
   "outputs": [
    {
     "name": "stdout",
     "output_type": "stream",
     "text": [
      "root\n",
      " |-- date_from: string (nullable = true)\n",
      " |-- millones_dolares: double (nullable = true)\n",
      " |-- frequency: string (nullable = false)\n",
      " |-- month: string (nullable = true)\n",
      "\n",
      "+----------+----------------+---------+-----+\n",
      "| date_from|millones_dolares|frequency|month|\n",
      "+----------+----------------+---------+-----+\n",
      "|1992-01-01|      133.367679|  Mensual|   01|\n",
      "|1992-02-01|      188.034116|  Mensual|   02|\n",
      "|1992-03-01|      320.984466|  Mensual|   03|\n",
      "|1992-04-01|      375.242075|  Mensual|   04|\n",
      "|1992-05-01|      474.440656|  Mensual|   05|\n",
      "|1992-06-01|      442.905698|  Mensual|   06|\n",
      "|1992-07-01|      455.983718|  Mensual|   07|\n",
      "|1992-08-01|       346.11888|  Mensual|   08|\n",
      "|1992-09-01|       251.83012|  Mensual|   09|\n",
      "|1992-10-01|      180.399972|  Mensual|   10|\n",
      "|1992-11-01|      152.657852|  Mensual|   11|\n",
      "|1992-12-01|      170.560837|  Mensual|   12|\n",
      "|1993-01-01|      226.344594|  Mensual|   01|\n",
      "|1993-02-01|       218.95773|  Mensual|   02|\n",
      "|1993-03-01|      376.002446|  Mensual|   03|\n",
      "|1993-04-01|      375.657342|  Mensual|   04|\n",
      "|1993-05-01|      470.956346|  Mensual|   05|\n",
      "|1993-06-01|      402.156012|  Mensual|   06|\n",
      "|1993-07-01|      309.188763|  Mensual|   07|\n",
      "|1993-08-01|      245.806947|  Mensual|   08|\n",
      "+----------+----------------+---------+-----+\n",
      "only showing top 20 rows\n",
      "\n"
     ]
    }
   ],
   "source": [
    "df_to_write = df_to_write.withColumn('month', substring(col('date_from'),6,2))\n",
    "df_to_write.printSchema()\n",
    "df_to_write.show()"
   ]
  },
  {
   "cell_type": "markdown",
   "id": "0a331002-195e-42fe-8116-582cf1e6002f",
   "metadata": {},
   "source": [
    "## 4) Carga de datos en tabla de Amazon Redshift"
   ]
  },
  {
   "cell_type": "code",
   "execution_count": 17,
   "id": "846c31de-8995-45de-87ff-9f573852e8a4",
   "metadata": {
    "tags": []
   },
   "outputs": [],
   "source": [
    "df_to_write.write \\\n",
    "    .format(\"jdbc\") \\\n",
    "    .option(\"url\", f\"jdbc:postgresql://{env['AWS_REDSHIFT_HOST']}:{env['AWS_REDSHIFT_PORT']}/{env['AWS_REDSHIFT_DBNAME']}\") \\\n",
    "    .option(\"dbtable\", f\"{env['AWS_REDSHIFT_SCHEMA']}.exportaciones_productos_primarios\") \\\n",
    "    .option(\"user\", env['AWS_REDSHIFT_USER']) \\\n",
    "    .option(\"password\", env['AWS_REDSHIFT_PASSWORD']) \\\n",
    "    .option(\"driver\", \"org.postgresql.Driver\") \\\n",
    "    .mode(\"overwrite\") \\\n",
    "    .save()"
   ]
  },
  {
   "cell_type": "code",
   "execution_count": 18,
   "id": "e42cca47-336f-4870-a528-b1c56d7c64b2",
   "metadata": {
    "tags": []
   },
   "outputs": [],
   "source": [
    "# Query Redshift using Spark SQL\n",
    "query = f\"select * from {env['AWS_REDSHIFT_SCHEMA']}.exportaciones_productos_primarios\"\n",
    "data = spark.read \\\n",
    "    .format(\"jdbc\") \\\n",
    "    .option(\"url\", f\"jdbc:postgresql://{env['AWS_REDSHIFT_HOST']}:{env['AWS_REDSHIFT_PORT']}/{env['AWS_REDSHIFT_DBNAME']}\") \\\n",
    "    .option(\"dbtable\", f\"({query}) as tmp_table\") \\\n",
    "    .option(\"user\", env['AWS_REDSHIFT_USER']) \\\n",
    "    .option(\"password\", env['AWS_REDSHIFT_PASSWORD']) \\\n",
    "    .option(\"driver\", \"org.postgresql.Driver\") \\\n",
    "    .load()"
   ]
  },
  {
   "cell_type": "code",
   "execution_count": 19,
   "id": "f23e27db-346e-4905-8848-8179409a9139",
   "metadata": {
    "tags": []
   },
   "outputs": [
    {
     "name": "stdout",
     "output_type": "stream",
     "text": [
      "root\n",
      " |-- date_from: string (nullable = true)\n",
      " |-- millones_dolares: double (nullable = true)\n",
      " |-- frequency: string (nullable = true)\n",
      " |-- month: string (nullable = true)\n",
      "\n",
      "+----------+----------------+---------+-----+\n",
      "| date_from|millones_dolares|frequency|month|\n",
      "+----------+----------------+---------+-----+\n",
      "|1992-01-01|      133.367679|  Mensual|   01|\n",
      "|1992-02-01|      188.034116|  Mensual|   02|\n",
      "|1992-03-01|      320.984466|  Mensual|   03|\n",
      "|1992-04-01|      375.242075|  Mensual|   04|\n",
      "|1992-05-01|      474.440656|  Mensual|   05|\n",
      "|1992-06-01|      442.905698|  Mensual|   06|\n",
      "|1992-07-01|      455.983718|  Mensual|   07|\n",
      "|1992-08-01|       346.11888|  Mensual|   08|\n",
      "|1992-09-01|       251.83012|  Mensual|   09|\n",
      "|1992-10-01|      180.399972|  Mensual|   10|\n",
      "|1992-11-01|      152.657852|  Mensual|   11|\n",
      "|1992-12-01|      170.560837|  Mensual|   12|\n",
      "|1993-01-01|      226.344594|  Mensual|   01|\n",
      "|1993-02-01|       218.95773|  Mensual|   02|\n",
      "|1993-03-01|      376.002446|  Mensual|   03|\n",
      "|1993-04-01|      375.657342|  Mensual|   04|\n",
      "|1993-05-01|      470.956346|  Mensual|   05|\n",
      "|1993-06-01|      402.156012|  Mensual|   06|\n",
      "|1993-07-01|      309.188763|  Mensual|   07|\n",
      "|1993-08-01|      245.806947|  Mensual|   08|\n",
      "+----------+----------------+---------+-----+\n",
      "only showing top 20 rows\n",
      "\n"
     ]
    }
   ],
   "source": [
    "data.printSchema()\n",
    "data.show()"
   ]
  },
  {
   "cell_type": "code",
   "execution_count": 20,
   "id": "311a75ef-818b-4b8d-9f48-43e62ca2f806",
   "metadata": {
    "tags": []
   },
   "outputs": [],
   "source": [
    "conn.close()"
   ]
  },
  {
   "cell_type": "code",
   "execution_count": null,
   "id": "37e0b31e-28c2-4135-9f37-6375e20f61ce",
   "metadata": {},
   "outputs": [],
   "source": []
  }
 ],
 "metadata": {
  "kernelspec": {
   "display_name": "Python 3 (ipykernel)",
   "language": "python",
   "name": "python3"
  },
  "language_info": {
   "codemirror_mode": {
    "name": "ipython",
    "version": 3
   },
   "file_extension": ".py",
   "mimetype": "text/x-python",
   "name": "python",
   "nbconvert_exporter": "python",
   "pygments_lexer": "ipython3",
   "version": "3.10.10"
  }
 },
 "nbformat": 4,
 "nbformat_minor": 5
}
